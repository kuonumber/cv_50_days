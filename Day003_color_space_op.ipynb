{
  "nbformat": 4,
  "nbformat_minor": 0,
  "metadata": {
    "colab": {
      "name": "Day003_color_space_op",
      "provenance": [],
      "authorship_tag": "ABX9TyMigafp548cs/OnaUDt1m6W",
      "include_colab_link": true
    },
    "kernelspec": {
      "name": "python3",
      "display_name": "Python 3"
    }
  },
  "cells": [
    {
      "cell_type": "markdown",
      "metadata": {
        "id": "view-in-github",
        "colab_type": "text"
      },
      "source": [
        "<a href=\"https://colab.research.google.com/github/kuonumber/cv_50_days/blob/master/Day003_color_space_op.ipynb\" target=\"_parent\"><img src=\"https://colab.research.google.com/assets/colab-badge.svg\" alt=\"Open In Colab\"/></a>"
      ]
    },
    {
      "cell_type": "code",
      "metadata": {
        "id": "QYFTm3eXNEzw"
      },
      "source": [
        "import cv2\n",
        "from google.colab.patches import cv2_imshow\n",
        "import numpy as np\n"
      ],
      "execution_count": null,
      "outputs": []
    },
    {
      "cell_type": "code",
      "metadata": {
        "id": "D3BmUBP-1cOM"
      },
      "source": [
        "# https://stackoverflow.com/questions/57090598/using-cv2-imshow-in-google-colab"
      ],
      "execution_count": null,
      "outputs": []
    },
    {
      "cell_type": "code",
      "metadata": {
        "id": "tD_mAJb9NrpR"
      },
      "source": [
        "! wget https://cvdl-fileentity.cupoy.com/marathon/homework/data/1586167928665/lena.png?t=1586167940239"
      ],
      "execution_count": null,
      "outputs": []
    },
    {
      "cell_type": "code",
      "metadata": {
        "id": "tBRWAfXuNuvr"
      },
      "source": [
        "!ls"
      ],
      "execution_count": null,
      "outputs": []
    },
    {
      "cell_type": "code",
      "metadata": {
        "id": "waEsaGS7jYvX"
      },
      "source": [
        "img_path = 'lena.png?t=1586167940239'\n",
        "# 以彩色圖片的方式載入\n",
        "img = cv2.imread(img_path, cv2.IMREAD_COLOR)\n",
        "# 以灰階圖片的方式載入\n",
        "# img_gray = cv2.imread(img_path, cv2.IMREAD_GRAYSCALE)\n",
        "\n",
        "# 以灰階圖片的方式載入\n",
        "img = cv2.imread(img_path, 1)"
      ],
      "execution_count": null,
      "outputs": []
    },
    {
      "cell_type": "code",
      "metadata": {
        "id": "xkPaAgomNhcZ"
      },
      "source": [
        "\n",
        "\n",
        "\n",
        "# 改變不同的 color space\n",
        "img_hsv = cv2.cvtColor(img, cv2.COLOR_BGR2HSV)\n",
        "\n",
        "img_hls = cv2.cvtColor(img, cv2.COLOR_BGR2HLS)\n",
        "\n",
        "img_lab = cv2.cvtColor(img, cv2.COLOR_BGR2LAB)\n",
        "\n",
        "\n",
        "# 為了要不斷顯示圖片，所以使用一個迴圈\n",
        "# 顯示彩圖\n",
        "cv2_imshow(img)\n",
        "# 顯示灰圖\n",
        "cv2_imshow(img_gray)\n",
        "# 顯示hsv圖\n",
        "cv2_imshow(img_hsv)\n",
        "\n",
        "cv2_imshow(img_hls)\n",
        "\n",
        "cv2_imshow(img_lab)\n"
      ],
      "execution_count": null,
      "outputs": []
    },
    {
      "cell_type": "code",
      "metadata": {
        "id": "UssFoKLmN0Od"
      },
      "source": [
        "\n",
        "b = img.copy()\n",
        "# set green and red channels to 0\n",
        "b[:, :, 1] = 0\n",
        "b[:, :, 2] = 0\n",
        "\n",
        "\n",
        "g = img.copy()\n",
        "# set blue and red channels to 0\n",
        "g[:, :, 0] = 0\n",
        "g[:, :, 2] = 0\n",
        "\n",
        "r = img.copy()\n",
        "# set blue and green channels to 0\n",
        "r[:, :, 0] = 0\n",
        "r[:, :, 1] = 0"
      ],
      "execution_count": null,
      "outputs": []
    },
    {
      "cell_type": "code",
      "metadata": {
        "id": "urPivztVP6U8"
      },
      "source": [
        "cv2_imshow(b)\n",
        "cv2_imshow(g)\n",
        "cv2_imshow(r)\n"
      ],
      "execution_count": null,
      "outputs": []
    },
    {
      "cell_type": "code",
      "metadata": {
        "id": "8vi3DlC4QCT1"
      },
      "source": [
        "# 為了要改變飽和度，我們先把 color space 轉成 HSL 格式 (OpenCV 表示順序是 HLS)\n",
        "img_hls = cv2.cvtColor(img, cv2.COLOR_BGR2HLS)\n",
        "change_percentage = 0.2\n",
        "\n",
        "# 針對飽和度的值做改變，超過界線 0~1 的都會 bound\n",
        "# 在 HLS color space 減少飽和度\n",
        "img_hls_down = img_hls.astype('float32')\n",
        "img_hls_down[..., -1] = img_hls_down[..., -1]/255 - change_percentage\n",
        "img_hls_down[img_hls_down[..., -1] < 0] = 0\n",
        "img_hls_down[..., -1] = img_hls_down[..., -1]*255\n",
        "img_hls_down = img_hls_down.astype('uint8')\n",
        "\n",
        "# 在 HLS color space 增加飽和度\n",
        "img_hls_up = img_hls.astype('float32')\n",
        "img_hls_up[..., -1] = img_hls_up[..., -1]/255 + change_percentage\n",
        "img_hls_up[img_hls_up[..., -1] > 1] = 1\n",
        "img_hls_up[..., -1] = img_hls_up[..., -1]*255\n",
        "img_hls_up = img_hls_up.astype('uint8')\n",
        "\n",
        "# 轉換\n",
        "img_hls_down = cv2.cvtColor(img_hls_down, cv2.COLOR_HLS2BGR)\n",
        "img_hls_up = cv2.cvtColor(img_hls_up, cv2.COLOR_HLS2BGR)\n",
        "\n",
        "# 組合圖片 + 顯示圖片\n",
        "img_hls_change = np.hstack((img, img_hls_down, img_hls_up))"
      ],
      "execution_count": null,
      "outputs": []
    },
    {
      "cell_type": "code",
      "metadata": {
        "id": "I1olJ_fvjg6F"
      },
      "source": [
        "cv2_imshow(img_hls_change)\n"
      ],
      "execution_count": null,
      "outputs": []
    },
    {
      "cell_type": "code",
      "metadata": {
        "id": "Pu9ezZ9lj8u_"
      },
      "source": [
        "img_gray = cv2.cvtColor(img, cv2.COLOR_BGR2GRAY)\n",
        "\n",
        "# 灰階圖片直方圖均衡\n",
        "img_gray_equal = cv2.equalizeHist(img_gray)\n",
        "\n",
        "# 組合圖片 + 顯示圖片\n",
        "img_gray_equalHist = np.hstack((img_gray, img_gray_equal))"
      ],
      "execution_count": null,
      "outputs": []
    },
    {
      "cell_type": "code",
      "metadata": {
        "id": "16UnrwzdkeUR"
      },
      "source": [
        "cv2_imshow(img_gray_equalHist)\n"
      ],
      "execution_count": null,
      "outputs": []
    },
    {
      "cell_type": "code",
      "metadata": {
        "id": "uphgb3NtkkNu"
      },
      "source": [
        "# alpha: 控制對比度 (1.0~3.0)\n",
        "# beta: 控制明亮度 (0~255)\n",
        "add_contrast = cv2.convertScaleAbs(img, alpha=2.0, beta=0)\n",
        "add_lighness = cv2.convertScaleAbs(img, alpha=1.0, beta=50)\n",
        "\n",
        "# 組合圖片 + 顯示圖片\n",
        "img_contrast_light = np.hstack((img, add_contrast, add_lighness))"
      ],
      "execution_count": null,
      "outputs": []
    },
    {
      "cell_type": "code",
      "metadata": {
        "id": "tQxGEGZRksdw"
      },
      "source": [
        "cv2_imshow(img_contrast_light)\n"
      ],
      "execution_count": null,
      "outputs": []
    },
    {
      "cell_type": "code",
      "metadata": {
        "id": "H0Zbs1ulkv0S"
      },
      "source": [
        ""
      ],
      "execution_count": null,
      "outputs": []
    },
    {
      "cell_type": "markdown",
      "metadata": {
        "id": "9OCI1wj3tzb1"
      },
      "source": [
        "## 改變飽和度"
      ]
    },
    {
      "cell_type": "code",
      "metadata": {
        "id": "14F3EA3mtZ6g"
      },
      "source": [
        "# 為了要改變飽和度，我們先把 color space 轉成 HSV 格式\n",
        "img_hsv = cv2.cvtColor(img, cv2.COLOR_BGR2HSV)\n",
        "change_percentage = 0.2\n"
      ],
      "execution_count": null,
      "outputs": []
    },
    {
      "cell_type": "code",
      "metadata": {
        "id": "6nPeRnCvsfjr"
      },
      "source": [
        "img.shape"
      ],
      "execution_count": null,
      "outputs": []
    },
    {
      "cell_type": "code",
      "metadata": {
        "id": "w9cWLlRKv7KL"
      },
      "source": [
        "img_hsv[...,1]"
      ],
      "execution_count": null,
      "outputs": []
    },
    {
      "cell_type": "code",
      "metadata": {
        "id": "iJEV6JqmwDsJ"
      },
      "source": [
        "img_hsv[::,1].shape"
      ],
      "execution_count": null,
      "outputs": []
    },
    {
      "cell_type": "code",
      "metadata": {
        "id": "dOYPddRTw3Vz"
      },
      "source": [
        "img_hsv[:,:,1].shape"
      ],
      "execution_count": null,
      "outputs": []
    },
    {
      "cell_type": "code",
      "metadata": {
        "id": "PJVW5M07t8Rf"
      },
      "source": [
        "\n",
        "# 針對飽和度的值做改變，超過界線 0~1 的都會 bound\n",
        "# 在 HSV color space 減少飽和度\n",
        "img_hsv_down = img_hsv.astype('float32')\n",
        "\n",
        "img_hsv_down = img_hsv[:,:,1]/255 - change_percentage\n",
        "# img_hsv_down = img_hsv[...,1]/255 - change_percentage\n"
      ],
      "execution_count": null,
      "outputs": []
    },
    {
      "cell_type": "code",
      "metadata": {
        "id": "bKAtj4u4u06H"
      },
      "source": [
        "img_hsv_down[img_hsv_down<0] = 0"
      ],
      "execution_count": null,
      "outputs": []
    },
    {
      "cell_type": "code",
      "metadata": {
        "id": "6vsDqdL4vCR8"
      },
      "source": [
        "img_hsv_down = np.int8(img_hsv_down * 255)\n",
        "# img_hsv_down = img_hsv_down.astype('uint8')"
      ],
      "execution_count": null,
      "outputs": []
    },
    {
      "cell_type": "code",
      "metadata": {
        "id": "FfG6-3BpvqIf"
      },
      "source": [
        "cv2_imshow(img_hsv_down)"
      ],
      "execution_count": null,
      "outputs": []
    },
    {
      "cell_type": "code",
      "metadata": {
        "id": "ChcRBNxQuuF1"
      },
      "source": [
        "\n",
        "# 在 HSV color space 增加飽和度\n",
        "img_hsv_up = img_hsv[:,:,1]/255 + change_percentage\n",
        "img_hsv_up[img_hsv_up>1] = 1\n",
        "img_hsv_up = np.int16(img_hsv_up * 255)\n",
        "cv2_imshow(img_hsv_up)"
      ],
      "execution_count": null,
      "outputs": []
    },
    {
      "cell_type": "code",
      "metadata": {
        "id": "o6NAkMcFssTx"
      },
      "source": [
        "img_hsv[:,:,1] = img_hsv_down"
      ],
      "execution_count": null,
      "outputs": []
    },
    {
      "cell_type": "code",
      "metadata": {
        "id": "JvtgfZQZs0nA"
      },
      "source": [
        "img_hsv_down_ = img_hsv\n"
      ],
      "execution_count": null,
      "outputs": []
    },
    {
      "cell_type": "code",
      "metadata": {
        "id": "qlsf2Q9Ys9QF"
      },
      "source": [
        "img_hsv[:,:,1] = img_hsv_up"
      ],
      "execution_count": null,
      "outputs": []
    },
    {
      "cell_type": "code",
      "metadata": {
        "id": "5sAjxUF0tBX0"
      },
      "source": [
        "img_hsv_up_ = img_hsv"
      ],
      "execution_count": null,
      "outputs": []
    },
    {
      "cell_type": "code",
      "metadata": {
        "id": "5mwYTC3qxb-M"
      },
      "source": [
        "\n",
        "\n",
        "# 轉換 color space 回 BGR\n",
        "img_hsv_down_ = cv2.cvtColor(img_hsv_down_, cv2.COLOR_HSV2BGR)\n",
        "img_hsv_up_ = cv2.cvtColor(img_hsv_up_, cv2.COLOR_HSV2BGR)\n",
        "\n",
        "# 組合圖片 + 顯示圖片\n",
        "img_hsv_change = np.hstack((img, img_hsv_down_, img_hsv_up_))"
      ],
      "execution_count": null,
      "outputs": []
    },
    {
      "cell_type": "code",
      "metadata": {
        "id": "Twku-weMt5Zv"
      },
      "source": [
        "cv2_imshow(img_hsv_change)\n"
      ],
      "execution_count": null,
      "outputs": []
    },
    {
      "cell_type": "code",
      "metadata": {
        "id": "PrNLPyDOrNjh"
      },
      "source": [
        ""
      ],
      "execution_count": null,
      "outputs": []
    },
    {
      "cell_type": "markdown",
      "metadata": {
        "id": "rIxXc9Cut_Tv"
      },
      "source": [
        "## 實作直方均衡"
      ]
    },
    {
      "cell_type": "code",
      "metadata": {
        "id": "pXa6hsf8uPdf"
      },
      "source": [
        "# 轉為灰階圖片\n",
        "img_gray = cv2.cvtColor(img, cv2.COLOR_BGR2GRAY)\n",
        "\n",
        "# 灰階圖片直方圖均衡\n",
        "img_gray_equal = cv2.equalizeHist(img_gray)\n",
        "\n",
        "# 組合圖片 + 顯示圖片\n",
        "img_gray_equalHist = np.hstack((img_gray, img_gray_equal))"
      ],
      "execution_count": null,
      "outputs": []
    },
    {
      "cell_type": "code",
      "metadata": {
        "id": "wVyJH9oswxNW"
      },
      "source": [
        "img.shape"
      ],
      "execution_count": null,
      "outputs": []
    },
    {
      "cell_type": "code",
      "metadata": {
        "id": "s2gqAv3Tt3eH"
      },
      "source": [
        "# case 1\n",
        "# 每個 channel 個別做直方圖均衡\n",
        "img_bgr_equal = [cv2.equalizeHist(img[:,:,i]) for i in [0,1,2]]\n"
      ],
      "execution_count": null,
      "outputs": []
    },
    {
      "cell_type": "code",
      "metadata": {
        "id": "UwbUryHTvC2C"
      },
      "source": [
        "img_bgr_equal_ = cv2.merge(img_bgr_equal)\n",
        "#https://stackoverflow.com/questions/34712144/merge-hsv-channels-under-opencv-3-in-python"
      ],
      "execution_count": null,
      "outputs": []
    },
    {
      "cell_type": "code",
      "metadata": {
        "id": "hdZgHtP8vBZx"
      },
      "source": [
        "# case 2 - 轉換 color space 後只對其中一個 channel 做直方圖均衡\n",
        "img_hsv_equal = cv2.cvtColor(img, cv2.COLOR_BGR2HSV)\n"
      ],
      "execution_count": null,
      "outputs": []
    },
    {
      "cell_type": "code",
      "metadata": {
        "id": "Kp7OYqS6v2zS"
      },
      "source": [
        "img_hsv_equal[:,:,0] = cv2.equalizeHist(img_hsv_equal[:,:,0])"
      ],
      "execution_count": null,
      "outputs": []
    },
    {
      "cell_type": "code",
      "metadata": {
        "id": "jEp6YCqiwZlS"
      },
      "source": [
        "img_hsv_equal.shape"
      ],
      "execution_count": null,
      "outputs": []
    },
    {
      "cell_type": "code",
      "metadata": {
        "id": "ru-XNN4Mvv4-"
      },
      "source": [
        "\n",
        "# 組合圖片 + 顯示圖片\n",
        "img_bgr_equalHist = np.hstack((img, img_bgr_equal_, img_hsv_equal))\n"
      ],
      "execution_count": null,
      "outputs": []
    },
    {
      "cell_type": "code",
      "metadata": {
        "id": "sp5OfKndwLRH"
      },
      "source": [
        "cv2_imshow(img_bgr_equalHist)\n"
      ],
      "execution_count": null,
      "outputs": []
    },
    {
      "cell_type": "markdown",
      "metadata": {
        "id": "x_sE8JfWyECQ"
      },
      "source": [
        "## 明亮對比"
      ]
    },
    {
      "cell_type": "code",
      "metadata": {
        "id": "-VS05-7dwNue"
      },
      "source": [
        "\n",
        "# alpha: 控制對比度 (1.0~3.0)\n",
        "# beta: 控制明亮度 (0~255)\n",
        "add_contrast = cv2.convertScaleAbs(img, alpha=2.0, beta=0)\n",
        "add_lighness = cv2.convertScaleAbs(img, alpha=1.0, beta=50)\n",
        "\n",
        "# 組合圖片 + 顯示圖片\n",
        "img_contrast_light = np.hstack((img, add_contrast, add_lighness))\n"
      ],
      "execution_count": null,
      "outputs": []
    },
    {
      "cell_type": "code",
      "metadata": {
        "id": "gutahNeR0qkL"
      },
      "source": [
        "cv2_imshow(img_contrast_light)\n"
      ],
      "execution_count": null,
      "outputs": []
    },
    {
      "cell_type": "code",
      "metadata": {
        "id": "mlhk23NDzK2l"
      },
      "source": [
        "# alpha: 控制對比度 (1.0~3.0)\n",
        "# beta: 控制明亮度 (0~255)\n",
        "add_contrast = cv2.convertScaleAbs(img, alpha=3.0, beta=0)\n",
        "add_lighness = cv2.convertScaleAbs(img, alpha=1.0, beta=50 )\n",
        "\n",
        "# 組合圖片 + 顯示圖片\n",
        "img_contrast_light = np.hstack((img, add_contrast, add_lighness))"
      ],
      "execution_count": null,
      "outputs": []
    },
    {
      "cell_type": "code",
      "metadata": {
        "id": "leuOLb411w__"
      },
      "source": [
        "cv2_imshow(img_contrast_light)\n"
      ],
      "execution_count": null,
      "outputs": []
    },
    {
      "cell_type": "code",
      "metadata": {
        "id": "K_8aJPRX1y1H"
      },
      "source": [
        ""
      ],
      "execution_count": null,
      "outputs": []
    }
  ]
}